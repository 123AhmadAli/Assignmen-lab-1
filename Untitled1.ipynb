{
 "cells": [
  {
   "cell_type": "code",
   "execution_count": 1,
   "id": "aaab17b7-07f4-4b81-ba3e-1ce2c188736c",
   "metadata": {},
   "outputs": [
    {
     "name": "stdout",
     "output_type": "stream",
     "text": [
      "hello python learner\n"
     ]
    }
   ],
   "source": [
    "#question no 1\n",
    "def say_hello():\n",
    "    print(\"hello python learner\")\n",
    "say_hello()"
   ]
  },
  {
   "cell_type": "code",
   "execution_count": 2,
   "id": "6fa46380-190e-4347-81be-4cf9b4c65f9d",
   "metadata": {},
   "outputs": [
    {
     "name": "stdout",
     "output_type": "stream",
     "text": [
      "hi mubashir bro\n"
     ]
    }
   ],
   "source": [
    "# question no 2\n",
    "def say_hello(name):\n",
    "    print(f\"hi {name} bro\")\n",
    "say_hello('mubashir')"
   ]
  },
  {
   "cell_type": "code",
   "execution_count": 3,
   "id": "fe9ea568-c6fd-45e9-bb23-5d7eb3b2c209",
   "metadata": {},
   "outputs": [
    {
     "name": "stdout",
     "output_type": "stream",
     "text": [
      "i have a  cat , his name is mano\n"
     ]
    }
   ],
   "source": [
    "#question no 3\n",
    "def describe_pet (animal_type,pet_name):\n",
    " print(f\"i have a {animal_type} , his name is {pet_name}\")\n",
    "describe_pet(' cat','mano')    \n",
    "    "
   ]
  },
  {
   "cell_type": "code",
   "execution_count": 4,
   "id": "91f42bf2-25be-4a7a-944a-c8a6d0edaca0",
   "metadata": {},
   "outputs": [
    {
     "name": "stdout",
     "output_type": "stream",
     "text": [
      "i have a  cat , his name is mano\n",
      "i have a dog , his name is tom\n"
     ]
    }
   ],
   "source": [
    "# question no 4\n",
    "def describe_pet (animal_type,pet_name):\n",
    " print(f\"i have a {animal_type} , his name is {pet_name}\")\n",
    "describe_pet(' cat','mano')    \n",
    "describe_pet(animal_type='dog',pet_name='tom')"
   ]
  },
  {
   "cell_type": "code",
   "execution_count": 5,
   "id": "6517ea0c-5638-4ac4-8902-7aac4c556044",
   "metadata": {},
   "outputs": [
    {
     "data": {
      "text/plain": [
       "'Rana Ahmad'"
      ]
     },
     "execution_count": 5,
     "metadata": {},
     "output_type": "execute_result"
    }
   ],
   "source": [
    "# question no 5\n",
    "def formatted_name(first , last):\n",
    "    full_name=( f'{first} {last}')\n",
    "    return full_name.title()\n",
    "formatted_name('rana','ahmad')"
   ]
  },
  {
   "cell_type": "code",
   "execution_count": 25,
   "id": "a3c3add4-c666-4337-ae9c-5dfa848238db",
   "metadata": {},
   "outputs": [
    {
     "data": {
      "text/plain": [
       "'Rana Ahmad Ali'"
      ]
     },
     "execution_count": 25,
     "metadata": {},
     "output_type": "execute_result"
    }
   ],
   "source": [
    "#question no 6\n",
    "def formatted_name(first,last,middle=\"\"):\n",
    "    if middle:\n",
    "        full_name=(f'{first} {last} {middle}')\n",
    "        #return full_name.tit()le\n",
    "    else:\n",
    "        full_name=(f'{first} {last}')\n",
    "    return full_name.title()\n",
    "formatted_name('rana','ahmad') \n",
    "formatted_name('rana','ahmad','ali')"
   ]
  },
  {
   "cell_type": "code",
   "execution_count": 53,
   "id": "9fcbab77-b5d9-4b24-a60e-fe06c6887d78",
   "metadata": {},
   "outputs": [
    {
     "data": {
      "text/plain": [
       "{'full_name': 'rana', 'last_name': 'ahmad', 'age': 19}"
      ]
     },
     "execution_count": 53,
     "metadata": {},
     "output_type": "execute_result"
    }
   ],
   "source": [
    "# question no 7\n",
    "def build_person(first,last,age=None):\n",
    "    full={'full_name':first,'last_name':last}\n",
    "    if age:\n",
    "        full['age']=age\n",
    "        return full\n",
    "build_person('rana','ahmad')\n",
    "build_person('rana','ahmad',19)       "
   ]
  },
  {
   "cell_type": "code",
   "execution_count": 59,
   "id": "22acca29-bdd1-4712-aea6-fb7dbe0a2b2b",
   "metadata": {},
   "outputs": [
    {
     "name": "stdout",
     "output_type": "stream",
     "text": [
      "hello,hamid\n",
      "hello,hai\n",
      "hello,asad\n"
     ]
    }
   ],
   "source": [
    "# question no 8\n",
    "def greet_user(usernames):\n",
    "    for name in usernames:\n",
    "        print(f'hello,{name}')\n",
    "greet_user(['hamid','hai','asad'])        "
   ]
  },
  {
   "cell_type": "code",
   "execution_count": 66,
   "id": "542180d3-0cee-44c9-8b33-33eefd64ab2c",
   "metadata": {},
   "outputs": [
    {
     "ename": "IndentationError",
     "evalue": "unindent does not match any outer indentation level (<string>, line 6)",
     "output_type": "error",
     "traceback": [
      "\u001b[1;36m  File \u001b[1;32m<string>:6\u001b[1;36m\u001b[0m\n\u001b[1;33m    make_pizza('paproni','mashroom','olive')\u001b[0m\n\u001b[1;37m                                                ^\u001b[0m\n\u001b[1;31mIndentationError\u001b[0m\u001b[1;31m:\u001b[0m unindent does not match any outer indentation level\n"
     ]
    }
   ],
   "source": [
    "#question no 9 \n",
    "def make_pizza(*toopings):\n",
    "    print('making a pizza with following toopings')\n",
    "     for tooping in toopings:  \n",
    "    print(f'{tooping}')\n",
    " make_pizza('paproni','mashroom','olive')    \n",
    "    "
   ]
  },
  {
   "cell_type": "code",
   "execution_count": null,
   "id": "e42c974e-8055-4718-9153-18bd9682b754",
   "metadata": {},
   "outputs": [],
   "source": []
  }
 ],
 "metadata": {
  "kernelspec": {
   "display_name": "Python 3 (ipykernel)",
   "language": "python",
   "name": "python3"
  },
  "language_info": {
   "codemirror_mode": {
    "name": "ipython",
    "version": 3
   },
   "file_extension": ".py",
   "mimetype": "text/x-python",
   "name": "python",
   "nbconvert_exporter": "python",
   "pygments_lexer": "ipython3",
   "version": "3.12.4"
  }
 },
 "nbformat": 4,
 "nbformat_minor": 5
}
